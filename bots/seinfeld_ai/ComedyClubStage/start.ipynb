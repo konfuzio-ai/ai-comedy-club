{
 "cells": [
  {
   "cell_type": "code",
   "execution_count": 1,
   "metadata": {},
   "outputs": [
    {
     "name": "stdout",
     "output_type": "stream",
     "text": [
      "Xformers is not installed correctly. If you want to use memory_efficient_attention to accelerate training use the following command to install Xformers\n",
      "pip install xformers.\n",
      "\n",
      "They say laughter is the best medicine, so allow me, Jerry Seinfeld, to be your comedic doctor!\n",
      " * Restarting with stat\n",
      "Xformers is not installed correctly. If you want to use memory_efficient_attention to accelerate training use the following command to install Xformers\n",
      "pip install xformers.\n",
      "\n",
      "Welcome to the virtual stage, folks! I'm Jerry Seinfeld, your comedy companion.\n",
      " * Debugger is active!\n",
      " * Debugger PIN: 122-245-666\n",
      "(14216) wsgi starting up on http://0.0.0.0:5000\n",
      "(14216) accepted ('127.0.0.1', 54720)\n",
      "Setting `pad_token_id` to `eos_token_id`:50256 for open-end generation.\n",
      "127.0.0.1 - - [17/Jul/2023 14:57:23] \"GET /? HTTP/1.1\" 200 2397 0.363636\n",
      "(14216) accepted ('127.0.0.1', 54724)\n",
      "127.0.0.1 - - [17/Jul/2023 14:57:23] \"GET /static/script.js HTTP/1.1\" 304 197 0.005628\n",
      "(14216) accepted ('127.0.0.1', 54728)\n",
      "(14216) accepted ('127.0.0.1', 54732)\n",
      "Connected\n",
      "Setting `pad_token_id` to `eos_token_id`:50256 for open-end generation.\n",
      "I don't understand why people say 'life is short' when they're in a hurry. It's like they're testing us on a treadmill.\n",
      "127.0.0.1 - - [17/Jul/2023 14:57:29] \"GET /background_process_test HTTP/1.1\" 200 269 0.950374\n",
      "Setting `pad_token_id` to `eos_token_id`:50256 for open-end generation.\n",
      "Why is it that every time you're in a hurry you end up in a hurry? It's like they're testing your patience.\n",
      "127.0.0.1 - - [17/Jul/2023 14:57:33] \"GET /background_process_test HTTP/1.1\" 200 257 0.831945\n",
      "Setting `pad_token_id` to `eos_token_id`:50256 for open-end generation.\n",
      "I find it funny how people say 'life is short' when they're not actually saying 'life is short' when they're actually saying 'life is more complicated'\n",
      "127.0.0.1 - - [17/Jul/2023 14:57:56] \"GET /background_process_test HTTP/1.1\" 200 301 1.211989\n"
     ]
    }
   ],
   "source": [
    "!python app.py"
   ]
  }
 ],
 "metadata": {
  "kernelspec": {
   "display_name": "base",
   "language": "python",
   "name": "python3"
  },
  "language_info": {
   "codemirror_mode": {
    "name": "ipython",
    "version": 3
   },
   "file_extension": ".py",
   "mimetype": "text/x-python",
   "name": "python",
   "nbconvert_exporter": "python",
   "pygments_lexer": "ipython3",
   "version": "3.8.8"
  },
  "orig_nbformat": 4
 },
 "nbformat": 4,
 "nbformat_minor": 2
}
