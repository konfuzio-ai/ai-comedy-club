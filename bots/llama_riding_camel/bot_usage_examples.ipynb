{
 "cells": [
  {
   "cell_type": "markdown",
   "id": "91c0480d-2825-4464-a955-1cf4602471d8",
   "metadata": {},
   "source": [
    "# AI Comedian LLama riding Camel\n",
    "\n",
    "An AI Comedian with a hilarious name **LLama riding Camel** made using `Mistral-7B-Instruct-v0.1`. This AI comedian can tell jokes on various topics such as social media, sports, politics, online shopping, etc. It not only tells jokes, but it can also rate other jokes based on humor, creativity, appropriate content, etc. Currently, this bot uses HuggingFace inference API to access the model. So `HuggingFace API Token` must be provided to enjoy the jokes of **LLama riding Camel** to it's full potential.\n",
    "\n",
    "WARNING: `HF_API_TOKEN` value must be provided with the environment to run the following blocks successfully."
   ]
  },
  {
   "cell_type": "markdown",
   "id": "ef53bb77-7e23-4fd2-98a9-897c57f11381",
   "metadata": {},
   "source": [
    "#### Install the required packages\n",
    "Uncomment the following codeblock and install the packages if any of them is not installed."
   ]
  },
  {
   "cell_type": "code",
   "execution_count": 1,
   "id": "d195d2fd-858a-4f3d-8b1f-f823ed09fb4b",
   "metadata": {},
   "outputs": [],
   "source": [
    "# !pip install textblob\n",
    "# !pip install python-dotenv\n",
    "# !pip install huggingface-hub "
   ]
  },
  {
   "cell_type": "markdown",
   "id": "9aaf529e-0eef-40b8-83c6-9fe7642bfca6",
   "metadata": {},
   "source": [
    "#### Load in initialize the Bot class"
   ]
  },
  {
   "cell_type": "code",
   "execution_count": 2,
   "id": "8649d42f-14da-4ae2-823b-3b420b5345d4",
   "metadata": {},
   "outputs": [],
   "source": [
    "from joke_bot import Bot\n",
    "bot = Bot()"
   ]
  },
  {
   "cell_type": "markdown",
   "id": "6cc2a2fc-b04b-470c-86a6-4f9d9e99e044",
   "metadata": {},
   "source": [
    "### Telling a Joke\n",
    "\n",
    "Use bot `tell_joke()` function to get a AI generated joke."
   ]
  },
  {
   "cell_type": "code",
   "execution_count": 3,
   "id": "38d44226-0cf1-4ab3-8dce-2f8387136170",
   "metadata": {},
   "outputs": [
    {
     "name": "stdout",
     "output_type": "stream",
     "text": [
      "Hey, bros and sistas! LLama riding Camel in the virtual house, ready to drop some social media wisdom on ya! Twitter - where people's thoughts are as fleeting as their tweets. You've got people who tweet about the weather and then forget to put on a coat.Dude, it's cold out there!\n",
      "\n",
      "Hey there, party animals and laughter enthusiasts! LLama riding Camel in the comedy oasis, ready to serve up some humpday humor on politics! So, I heard that Boris Johnson is planning to build a bridge to the moon. I mean, I'm all for ambitious projects, but let's be real, bro. The only thing we need to cross that gap is a good sense of humor and a healthy dose of sarcasm. And if he can't manage that, well, he might as well just stay on Earth.\n",
      "\n",
      "LLama riding Camel in the virtual dojo, here to sprinkle some netflix magic on your binary life! I heard Netflix is working on a new show about a group of friends who start a business selling homemade baked goods. It's called \"Dough-nuts\". Dude, that's a pun-tastic title!\n",
      "\n"
     ]
    }
   ],
   "source": [
    "for i in range(3):\n",
    "    joke = bot.tell_joke()\n",
    "    print(joke)\n",
    "    print(\"\")"
   ]
  },
  {
   "cell_type": "markdown",
   "id": "5d07ac95-b29a-4892-a157-e70c50cf979c",
   "metadata": {},
   "source": [
    "`tell_joke` function also supports an optional parameter `context`. It then extracts the category, and keywords from the context and generates a joke related to the context using those keywords."
   ]
  },
  {
   "cell_type": "code",
   "execution_count": 4,
   "id": "17331e0b-87a4-4439-8634-15651caecd2b",
   "metadata": {},
   "outputs": [
    {
     "name": "stdout",
     "output_type": "stream",
     "text": [
      "Context: Tell me joke about football or soccer.\n",
      "Joke: LLama riding Camel in the virtual dojo, here to sprinkle some sports magic on your binary life! So, I was at a soccer game and I saw a player make a really impressive pass. I was like, \"Wow, that was a beautiful pass!\" But then I realized he was just trying to get rid of the ball before it went out of bounds. I guess you could say he was just trying to avoid a \"foul\"!\n",
      "\n",
      "Context: Tell me a joke on British politics.\n",
      "Joke: LLama riding Camel in the virtual dojo, here to sprinkle some politics magic on your binary life! So, what do you call a politician who's always on the same frequency? A \"Brexiteer\"! I mean, they're always on the same frequency, but they never seem to be able to pick it up. It's like they're stuck in a never-ending loop of \"I'm on the same frequency, but I don't know what it is.\"\n",
      "\n",
      "Context: Do you know anything about doctors?\n",
      "Joke: Hey, bros and sistas! LLama riding Camel in the virtual house, ready to drop some general wisdom on ya! Why did the doctor carry a red pen?Because he wanted to draw blood!\n",
      "\n"
     ]
    }
   ],
   "source": [
    "contexts = [\"Tell me joke about football or soccer.\", \"Tell me a joke on British politics.\", \"Do you know anything about doctors?\"]\n",
    "\n",
    "for c in contexts:\n",
    "    joke = bot.tell_joke(context=c)\n",
    "    print(\"Context: \" + c)\n",
    "    print(\"Joke: \" + joke)\n",
    "    print(\"\")"
   ]
  },
  {
   "cell_type": "markdown",
   "id": "52260879-f208-4afc-b198-bc67d4b8edc2",
   "metadata": {},
   "source": [
    "#### How `tell_joke` works\n",
    "\n",
    "Our bot consists of two components, `AIComedian` and `AIJudge`. `AIComedian` responsible for telling a joke. If not context is given, it will randomly choose one of the available category and it's keywords. If the context is present, it extract the category and keywords from the context using the `detect_category_from_context` function from `AIComedian`. Here is an example below."
   ]
  },
  {
   "cell_type": "code",
   "execution_count": 5,
   "id": "8b727603-1e7c-4662-83bc-ae1e3c4bcd50",
   "metadata": {},
   "outputs": [
    {
     "name": "stdout",
     "output_type": "stream",
     "text": [
      "Category: general\n",
      "Keywords: cities, germany, travel\n"
     ]
    }
   ],
   "source": [
    "# It is possible to use AIComedian class directly by intializing using\n",
    "# hf_api_token parameter.\n",
    "category, keywords = bot.bot.comedian.detect_category_from_context(\"Tell me something on German cities.\")\n",
    "print('Category: ' + category)\n",
    "print('Keywords: ' + keywords)"
   ]
  },
  {
   "cell_type": "markdown",
   "id": "e8635751-2cbc-4239-9888-081f68bf4bce",
   "metadata": {},
   "source": [
    "Later the `AIComedian` generate jokes using this category and keywords. Here is an example below."
   ]
  },
  {
   "cell_type": "code",
   "execution_count": 6,
   "id": "7812d26a-1906-4a91-a44d-ee3f5c3b5229",
   "metadata": {},
   "outputs": [
    {
     "name": "stdout",
     "output_type": "stream",
     "text": [
      "What's kickin', party people and laughter enthusiasts! LLama riding Camel in the comedy cockpit, ready to take you on a hilarious joyride! Here to sprinkle some general magic on your black n white life! I went to Germany and I saw a sign that said \"No littering\". I thought to myself, \"Well, that's a relief.\"\n"
     ]
    }
   ],
   "source": [
    "joke = bot.bot.comedian.tell_joke_from_category(category=category, keywords=keywords)\n",
    "print(joke)"
   ]
  },
  {
   "cell_type": "markdown",
   "id": "fa18035e-5d73-4494-b934-7a24c2ea830d",
   "metadata": {},
   "source": [
    "#### Evaluation of the Jokes\n",
    "\n",
    "* **Humor:** Generated jokes are humorous up to a certain level. Although more work can be done to make the jokes funnier.\n",
    "* **Creativity:** Generated jokes are creative and unique.\n",
    "* **Timeliness:** It is possible to incorporate current events or popular culture into the jokes by using the `context`.\n",
    "* **Personalization:** This bot can tailor its jokes based on the user's preferences, past interactions, or known demographic information by using the context feature.\n",
    "* **Tone and Style:** This bot maintains a certain comedic style. It always uses a `broish` style to tell its joke. Starts its jokes with things like `Hey bro`, `Dude`, etc and follows distinctive delivery.\n",
    "* **User Engagement:** This AI comedian encourages interaction by asking questions in most of its jokes.\n",
    "* **Appropriate Content:** All the jokes are appropriate by carefully avoiding racist or inappropriate puns. Every jokes are being generated after careful prompt engineering.\n",
    "* **Diversity of Jokes:** The bot can create multiple categories of jokes. Right now it can create jokes from categories like 'social media', 'online shopping', 'netflix', 'sports', 'general', etc. More categories can be added to this list. Also wide varities of jokes can be generated by providing keywords to the joke. All of these things are managed dynamically through prompting.\n"
   ]
  },
  {
   "cell_type": "markdown",
   "id": "48e2d993-f81e-4000-97f2-9be666ae886f",
   "metadata": {},
   "source": [
    "### Rating a Joke\n",
    "\n",
    "Use the `rate_joke` from the bot to rate a joke."
   ]
  },
  {
   "cell_type": "code",
   "execution_count": 7,
   "id": "d60b3d38-0b0d-411e-91d3-7dc128aff7bf",
   "metadata": {},
   "outputs": [
    {
     "name": "stdout",
     "output_type": "stream",
     "text": [
      "Sandy’s mum has four kids; North, West, East. What is the name of the fourth child? Sandy, obviously!\n",
      "rating: 8.12\n",
      "\n",
      "I just had a huge breakfast. I have not feeling good since then.\n",
      "rating: 2.84\n",
      "\n",
      "Here is the best joke for you. I jumped, Then I changed my mind.\n",
      "rating: 4.38\n",
      "\n"
     ]
    }
   ],
   "source": [
    "jokes = [\n",
    "    \"Sandy’s mum has four kids; North, West, East. What is the name of the fourth child? Sandy, obviously!\",\n",
    "    \"I just had a huge breakfast. I have not feeling good since then.\",\n",
    "    \"Here is the best joke for you. I jumped, Then I changed my mind.\",\n",
    "]\n",
    "\n",
    "for j in jokes:\n",
    "    rating = bot.rate_joke(j)\n",
    "    print(j)\n",
    "    print('rating: ' + str(rating))\n",
    "    print(\"\")"
   ]
  },
  {
   "cell_type": "markdown",
   "id": "eef44f4b-2312-4ab2-ba79-6771cf09f4a1",
   "metadata": {},
   "source": [
    "#### How `rate_joke` works\n",
    "\n",
    "Second component of the bot, `AIJudge` is responsible for rating a joke. `AIJudge` has multiple functionality, such as:\n",
    "* `rate_sentiment_polarity`\n",
    "* `detect_if_joke_contains_question`\n",
    "* `detect_if_joke_contains_inappropriate_content`\n",
    "* `rate_joke_humor`\n",
    "  \n",
    "Finally, the `rate_joke` function combines scores from all of these functions with different weighting the make the final rating of the joke."
   ]
  },
  {
   "cell_type": "markdown",
   "id": "2ee160d4-231e-4ac1-a1a4-9086b16bfe98",
   "metadata": {},
   "source": [
    "#### Detecting inappropriate content\n",
    "\n",
    "AIJudge can detect inappropriate content from the joke. Same `Mistral-7B-Instruct-v0.1` has been used to classify the joke if it is inappropriate or not through prompting. Here are some sample output from the function."
   ]
  },
  {
   "cell_type": "code",
   "execution_count": 8,
   "id": "e05def28-2bb3-4896-97e7-ce5de3fdd2ac",
   "metadata": {},
   "outputs": [
    {
     "name": "stdout",
     "output_type": "stream",
     "text": [
      "There is a white boy, a Mexican boy, and a black boy who are all in the fifth grade. Who has the biggest d*ck? The black boy, because he's 18.\n",
      "Is inappropriate: True\n",
      "\n",
      "Where does Batman go to the bathroom? The batroom.\n",
      "Is inappropriate: False\n",
      "\n"
     ]
    }
   ],
   "source": [
    "inappropriate_jokes = [\n",
    "    \"There is a white boy, a Mexican boy, and a black boy who are all in the fifth grade. Who has the biggest d*ck? \\\n",
    "The black boy, because he's 18.\",\n",
    "    \"Where does Batman go to the bathroom? The batroom.\"\n",
    "]\n",
    "\n",
    "for j in inappropriate_jokes:\n",
    "    is_inappropriate = bot.bot.judge.detect_if_joke_contains_inappropriate_content(j)\n",
    "    print(j)\n",
    "    print(\"Is inappropriate: \" + str(is_inappropriate))\n",
    "    print(\"\")"
   ]
  },
  {
   "cell_type": "markdown",
   "id": "345be3c6-b7ca-4057-9b95-baafc60b32fa",
   "metadata": {},
   "source": [
    "#### Rating the humor of joke\n",
    "\n",
    "AIJudge can classify a joke into 5 classes: very funny, funny, neutral, not funny, or sad based on the humor present in the joke. The same `Mistral-7B-Instruct-v0.1` has been used to classify the joke humor class through prompting, then return a rating based on the class. Here are some sample outputs from the function. "
   ]
  },
  {
   "cell_type": "code",
   "execution_count": 9,
   "id": "57d84ec3-935d-4a46-9283-bbf51d4a7f80",
   "metadata": {},
   "outputs": [
    {
     "name": "stdout",
     "output_type": "stream",
     "text": [
      "Those annoying, noisy kids, who used to disturb my sleep, have grown up, left the house, and this silence is not letting me sleep now.\n",
      "humor class: 1\n",
      "\n",
      "Where does Batman go to the bathroom? The batroom.\n",
      "humor class: 10\n",
      "\n",
      "Why did the computer always restart? Because its operating system is not working anymore!\n",
      "humor class: 5\n",
      "\n"
     ]
    }
   ],
   "source": [
    "humor_jokes = [\n",
    "    \"Those annoying, noisy kids, who used to disturb my sleep, have grown up, left the house, and this silence \\\n",
    "is not letting me sleep now.\",\n",
    "    \"Where does Batman go to the bathroom? The batroom.\",\n",
    "    \"Why did the computer always restart? Because its operating system is not working anymore!\"\n",
    "]\n",
    "\n",
    "for j in humor_jokes:\n",
    "    humor_class = bot.bot.judge.rate_joke_humor(j)\n",
    "    print(j)\n",
    "    print(\"humor class: \" + str(humor_class))\n",
    "    print(\"\")"
   ]
  },
  {
   "cell_type": "code",
   "execution_count": null,
   "id": "1b8f479c-0a71-4760-ac33-b3def6b99bcf",
   "metadata": {},
   "outputs": [],
   "source": []
  }
 ],
 "metadata": {
  "kernelspec": {
   "display_name": "Python 3 (ipykernel)",
   "language": "python",
   "name": "python3"
  },
  "language_info": {
   "codemirror_mode": {
    "name": "ipython",
    "version": 3
   },
   "file_extension": ".py",
   "mimetype": "text/x-python",
   "name": "python",
   "nbconvert_exporter": "python",
   "pygments_lexer": "ipython3",
   "version": "3.9.16"
  }
 },
 "nbformat": 4,
 "nbformat_minor": 5
}
